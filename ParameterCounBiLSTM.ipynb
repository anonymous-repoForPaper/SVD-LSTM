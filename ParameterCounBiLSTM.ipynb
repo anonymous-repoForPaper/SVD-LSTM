{
 "cells": [
  {
   "cell_type": "code",
   "execution_count": 7,
   "metadata": {},
   "outputs": [],
   "source": [
    "import torch\n",
    "import torch.nn as nn\n",
    "import torch.nn.functional as F\n",
    "from torchinfo import summary\n",
    "seed = 1\n",
    "torch.manual_seed(seed)\n",
    "torch.cuda.manual_seed_all(seed)"
   ]
  },
  {
   "cell_type": "code",
   "execution_count": 8,
   "metadata": {},
   "outputs": [],
   "source": [
    "class BiLSTM(nn.Module):\n",
    "    def __init__(self, input_size, hidden_size, output_size):\n",
    "        super(BiLSTM, self).__init__()\n",
    "        self.hidden_size = hidden_size\n",
    "\n",
    "        # Defining the first bidirectional LSTM layer\n",
    "        self.lstm1 = nn.LSTM(input_size, hidden_size, batch_first=True, bidirectional=True)\n",
    "\n",
    "        # Defining the second bidirectional LSTM layer\n",
    "        self.lstm2 = nn.LSTM(2 * hidden_size, hidden_size, batch_first=True, bidirectional=True)\n",
    "\n",
    "        # Fully connected layer that outputs the predicted value\n",
    "        self.fc = nn.Linear(2 * hidden_size, output_size)\n",
    "\n",
    "    def forward(self, x):\n",
    "        # Initial hidden and cell states are zero\n",
    "        batch_size = x.size(0)\n",
    "        h0 = torch.zeros(2, batch_size, self.hidden_size).to(x.device)  # 2 for bidirectional\n",
    "        c0 = torch.zeros(2, batch_size, self.hidden_size).to(x.device)  # 2 for bidirectional\n",
    "\n",
    "        # First bidirectional LSTM layer\n",
    "        out, (hn, cn) = self.lstm1(x, (h0, c0))\n",
    "\n",
    "        # Second bidirectional LSTM layer\n",
    "        out, (hn, cn) = self.lstm2(out, (hn, cn))\n",
    "\n",
    "        # Reshape the output from the second LSTM layer to fit the fully connected layer\n",
    "        out = out[:, -1, :]  # Taking the last time step's output\n",
    "\n",
    "        # Fully connected layer\n",
    "        out = self.fc(out)\n",
    "        return out"
   ]
  },
  {
   "cell_type": "code",
   "execution_count": 9,
   "metadata": {},
   "outputs": [
    {
     "name": "stdout",
     "output_type": "stream",
     "text": [
      "=================================================================\n",
      "Layer (type:depth-idx)                   Param #\n",
      "=================================================================\n",
      "BiLSTM                                   --\n",
      "├─LSTM: 1-1                              140,288\n",
      "├─LSTM: 1-2                              395,264\n",
      "├─Linear: 1-3                            257\n",
      "=================================================================\n",
      "Total params: 535,809\n",
      "Trainable params: 535,809\n",
      "Non-trainable params: 0\n",
      "=================================================================\n"
     ]
    }
   ],
   "source": [
    "# Parameters\n",
    "input_size = 7\n",
    "hidden_size = 128\n",
    "output_size = 1\n",
    "\n",
    "# Create the model\n",
    "model = BiLSTM(input_size, hidden_size, output_size)\n",
    "print(summary(model))\n",
    "torch.save(model,'modelCache/BiLSTM.pth')"
   ]
  },
  {
   "cell_type": "code",
   "execution_count": 10,
   "metadata": {},
   "outputs": [
    {
     "name": "stdout",
     "output_type": "stream",
     "text": [
      "Input shape: torch.Size([1, 1, 7])\n",
      "Output shape: torch.Size([1, 1])\n",
      "Output: tensor([[0.0256]])\n"
     ]
    }
   ],
   "source": [
    "seq_len = 1  # Sequence length\n",
    "batch_size = 1 # Number of sequences in the batch\n",
    "x = torch.randn(batch_size, seq_len, input_size)\n",
    "\n",
    "model.eval()  # Set the model to evaluation mode\n",
    "with torch.no_grad():\n",
    "    output = model(x)\n",
    "\n",
    "print(\"Input shape:\", x.shape)\n",
    "print(\"Output shape:\", output.shape)\n",
    "print(\"Output:\", output)"
   ]
  }
 ],
 "metadata": {
  "kernelspec": {
   "display_name": "lcw_torch_gpu_h",
   "language": "python",
   "name": "python3"
  },
  "language_info": {
   "codemirror_mode": {
    "name": "ipython",
    "version": 3
   },
   "file_extension": ".py",
   "mimetype": "text/x-python",
   "name": "python",
   "nbconvert_exporter": "python",
   "pygments_lexer": "ipython3",
   "version": "3.8.18"
  }
 },
 "nbformat": 4,
 "nbformat_minor": 2
}
