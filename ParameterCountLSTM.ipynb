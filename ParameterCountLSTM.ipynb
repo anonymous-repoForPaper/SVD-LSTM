{
 "cells": [
  {
   "cell_type": "code",
   "execution_count": 26,
   "metadata": {},
   "outputs": [],
   "source": [
    "import torch\n",
    "import torch.nn as nn\n",
    "import torch.nn.functional as F\n",
    "from torchinfo import summary\n",
    "\n",
    "seed = 1\n",
    "torch.manual_seed(seed)\n",
    "torch.cuda.manual_seed_all(seed)\n"
   ]
  },
  {
   "cell_type": "code",
   "execution_count": 27,
   "metadata": {},
   "outputs": [],
   "source": [
    "class StandardLSTM(nn.Module):\n",
    "    def __init__(self, input_size, hidden_size, output_size):\n",
    "        super(StandardLSTM, self).__init__()\n",
    "        self.hidden_size = hidden_size\n",
    "\n",
    "        # Defining the first LSTM layer\n",
    "        self.lstm1 = nn.LSTM(input_size, hidden_size, batch_first=True)\n",
    "\n",
    "        # Defining the second LSTM layer\n",
    "        self.lstm2 = nn.LSTM(hidden_size, hidden_size, batch_first=True)\n",
    "\n",
    "        # Fully connected layer that outputs the predicted value\n",
    "        self.fc = nn.Linear(hidden_size, output_size)\n",
    "\n",
    "    def forward(self, x):\n",
    "        # Initial hidden and cell states are zero\n",
    "        h0 = torch.zeros(1, x.size(0), self.hidden_size).to(x.device)\n",
    "        c0 = torch.zeros(1, x.size(0), self.hidden_size).to(x.device)\n",
    "\n",
    "        # First LSTM layer\n",
    "        out, (hn, cn) = self.lstm1(x, (h0, c0))\n",
    "\n",
    "        # Second LSTM layer\n",
    "        out, (hn, cn) = self.lstm2(out, (hn, cn))\n",
    "\n",
    "        # Reshape the output from the second LSTM layer to fit the fully connected layer\n",
    "        out = out[:, -1, :]  # Taking the last time step's output\n",
    "\n",
    "        # Fully connected layer\n",
    "        out = self.fc(out)\n",
    "        return out"
   ]
  },
  {
   "cell_type": "code",
   "execution_count": 28,
   "metadata": {},
   "outputs": [],
   "source": [
    "# ParameterCount_base\n",
    "input_size = 7\n",
    "hidden_size = 128\n",
    "output_size = 1"
   ]
  },
  {
   "cell_type": "code",
   "execution_count": 29,
   "metadata": {},
   "outputs": [
    {
     "name": "stdout",
     "output_type": "stream",
     "text": [
      "=================================================================\n",
      "Layer (type:depth-idx)                   Param #\n",
      "=================================================================\n",
      "StandardLSTM                             --\n",
      "├─LSTM: 1-1                              70,144\n",
      "├─LSTM: 1-2                              132,096\n",
      "├─Linear: 1-3                            129\n",
      "=================================================================\n",
      "Total params: 202,369\n",
      "Trainable params: 202,369\n",
      "Non-trainable params: 0\n",
      "=================================================================\n"
     ]
    }
   ],
   "source": [
    "model = StandardLSTM(input_size, hidden_size, output_size)\n",
    "print(summary(model))\n",
    "torch.save(model,'modelCache/LSTM_base.pth')"
   ]
  },
  {
   "cell_type": "code",
   "execution_count": 30,
   "metadata": {},
   "outputs": [
    {
     "name": "stdout",
     "output_type": "stream",
     "text": [
      "Input shape: torch.Size([1, 1, 7])\n",
      "Output shape: torch.Size([1, 1])\n",
      "Output: tensor([[0.0208]])\n"
     ]
    }
   ],
   "source": [
    "seq_len = 1  # Sequence length\n",
    "batch_size = 1  # Number of sequences in the batch\n",
    "x = torch.randn(batch_size, seq_len, input_size)\n",
    "\n",
    "model.eval()  # Set the model to evaluation mode\n",
    "with torch.no_grad():\n",
    "    output = model(x)\n",
    "\n",
    "print(\"Input shape:\", x.shape)\n",
    "print(\"Output shape:\", output.shape)\n",
    "print(\"Output:\", output)"
   ]
  }
 ],
 "metadata": {
  "kernelspec": {
   "display_name": "lcw_torch_gpu_h",
   "language": "python",
   "name": "python3"
  },
  "language_info": {
   "codemirror_mode": {
    "name": "ipython",
    "version": 3
   },
   "file_extension": ".py",
   "mimetype": "text/x-python",
   "name": "python",
   "nbconvert_exporter": "python",
   "pygments_lexer": "ipython3",
   "version": "3.8.18"
  }
 },
 "nbformat": 4,
 "nbformat_minor": 2
}
